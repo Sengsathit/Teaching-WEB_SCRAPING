{
 "cells": [
  {
   "cell_type": "code",
   "execution_count": 77,
   "id": "7151d47d",
   "metadata": {},
   "outputs": [],
   "source": [
    "from selenium import webdriver\n",
    "from selenium.webdriver.common.by import By\n",
    "from selenium.webdriver.chrome.options import Options\n",
    "from selenium.webdriver.support.ui import WebDriverWait\n",
    "from selenium.webdriver.support import expected_conditions as EC\n",
    "\n",
    "\n",
    "# --- Utilitaire: setup driver (avec mode headless optionnel) ---\n",
    "def make_driver(headless: bool = False) -> webdriver.Chrome:\n",
    "    chrome_opts = Options()\n",
    "    if headless:\n",
    "        chrome_opts.add_argument(\"--headless=new\")\n",
    "    driver = webdriver.Chrome(options=chrome_opts)\n",
    "    return driver\n"
   ]
  },
  {
   "cell_type": "code",
   "execution_count": 78,
   "id": "c8b1752f",
   "metadata": {},
   "outputs": [
    {
     "name": "stdout",
     "output_type": "stream",
     "text": [
      "“The world as we have created it is a process of our thinking. It cannot be changed without changing our thinking.”\n",
      "“It is our choices, Harry, that show what we truly are, far more than our abilities.”\n",
      "“There are only two ways to live your life. One is as though nothing is a miracle. The other is as though everything is a miracle.”\n",
      "“The person, be it gentleman or lady, who has not pleasure in a good novel, must be intolerably stupid.”\n",
      "“Imperfection is beauty, madness is genius and it's better to be absolutely ridiculous than absolutely boring.”\n",
      "“Try not to become a man of success. Rather become a man of value.”\n",
      "“It is better to be hated for what you are than to be loved for what you are not.”\n",
      "“I have not failed. I've just found 10,000 ways that won't work.”\n",
      "“A woman is like a tea bag; you never know how strong it is until it's in hot water.”\n",
      "“A day without sunshine is like, you know, night.”\n"
     ]
    }
   ],
   "source": [
    "url = \"https://quotes.toscrape.com/js\"\n",
    "try:\n",
    "    # driver = make_driver(headless=False)\n",
    "    driver = webdriver.Chrome()\n",
    "    driver.get(url)\n",
    "\n",
    "    quotes = WebDriverWait(driver, 2).until(\n",
    "        EC.presence_of_all_elements_located((By.CLASS_NAME, \"quote\"))\n",
    "    )\n",
    "    \n",
    "    #html = driver.page_source\n",
    "\n",
    "    for quote in quotes:\n",
    "        q_text = quote.find_element(By.CLASS_NAME, \"text\")\n",
    "        print(q_text.text)\n",
    "\n",
    "except Exception as e:\n",
    "    print(\"Error:\", e)\n",
    "\n",
    "finally:\n",
    "    driver.quit()"
   ]
  }
 ],
 "metadata": {
  "kernelspec": {
   "display_name": ".venv",
   "language": "python",
   "name": "python3"
  },
  "language_info": {
   "codemirror_mode": {
    "name": "ipython",
    "version": 3
   },
   "file_extension": ".py",
   "mimetype": "text/x-python",
   "name": "python",
   "nbconvert_exporter": "python",
   "pygments_lexer": "ipython3",
   "version": "3.12.11"
  }
 },
 "nbformat": 4,
 "nbformat_minor": 5
}
