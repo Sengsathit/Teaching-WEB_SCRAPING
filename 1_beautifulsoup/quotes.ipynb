{
 "cells": [
  {
   "cell_type": "markdown",
   "id": "ccb4df99",
   "metadata": {},
   "source": [
    "# Import"
   ]
  },
  {
   "cell_type": "code",
   "execution_count": 7,
   "id": "a6874bfb",
   "metadata": {},
   "outputs": [],
   "source": [
    "import csv\n",
    "import time\n",
    "import random\n",
    "\n",
    "import requests\n",
    "from bs4 import BeautifulSoup"
   ]
  },
  {
   "cell_type": "markdown",
   "id": "126abd7b",
   "metadata": {},
   "source": [
    "# Constantes + Variables"
   ]
  },
  {
   "cell_type": "code",
   "execution_count": 8,
   "id": "bc12cd51",
   "metadata": {},
   "outputs": [],
   "source": [
    "BASE = \"http://quotes.toscrape.com\"\n",
    "URL_PAGE = BASE + \"/page/{}/\"\n",
    "\n",
    "session = requests.Session()\n",
    "session.headers.update({\"User-Agent\": \"Mozilla/5.0\"})\n",
    "\n",
    "quotes = []\n",
    "authors_index = {}\n",
    "page = 1"
   ]
  },
  {
   "cell_type": "markdown",
   "id": "ffe1262f",
   "metadata": {},
   "source": [
    "# Citations"
   ]
  },
  {
   "cell_type": "code",
   "execution_count": null,
   "id": "53ce68a8",
   "metadata": {},
   "outputs": [],
   "source": [
    "\n",
    "\n",
    "# Parcourir toutes les pages\n",
    "while True:\n",
    "\n",
    "    # Tant qu'il y a des pages à scraper on continue\n",
    "    response = session.get(URL_PAGE.format(page), timeout=10)\n",
    "    if response.status_code != 200:\n",
    "        break\n",
    "\n",
    "    # On récupère le contenu de chaque page et les blocs de citation en particulier\n",
    "    soup = BeautifulSoup(response.text, \"html.parser\")\n",
    "    blocks = soup.select(\"div.quote\")\n",
    "    if not blocks:\n",
    "        break\n",
    "\n",
    "    # On récupère chaque citation : texte + auteur + tags\n",
    "    # On récupère par la même l'url de chaque auteur pour un traitement ultérieur\n",
    "    for b in blocks:\n",
    "\n",
    "        # la citation\n",
    "        text = b.select_one(\"span.text\").get_text(strip=True)\n",
    "        author = b.select_one(\"small.author\").get_text(strip=True)\n",
    "        tags = \" \".join([t.get_text(strip=True) for t in b.select(\"a.tag\")])\n",
    "\n",
    "        # l'auteur\n",
    "        author_rel = b.select_one(\"span > a[href*='/author/']\")[\"href\"]\n",
    "        author_url = BASE + author_rel\n",
    "\n",
    "        quotes.append({\"text\": text, \"author\": author, \"tags\": tags})\n",
    "        authors_index.setdefault(author, author_url)\n",
    "\n",
    "    page += 1\n",
    "    time.sleep(random.uniform(0.1, 0.2))"
   ]
  },
  {
   "cell_type": "code",
   "execution_count": 10,
   "id": "75766389",
   "metadata": {},
   "outputs": [
    {
     "data": {
      "text/plain": [
       "{'Albert Einstein': 'http://quotes.toscrape.com/author/Albert-Einstein',\n",
       " 'J.K. Rowling': 'http://quotes.toscrape.com/author/J-K-Rowling',\n",
       " 'Jane Austen': 'http://quotes.toscrape.com/author/Jane-Austen',\n",
       " 'Marilyn Monroe': 'http://quotes.toscrape.com/author/Marilyn-Monroe',\n",
       " 'André Gide': 'http://quotes.toscrape.com/author/Andre-Gide',\n",
       " 'Thomas A. Edison': 'http://quotes.toscrape.com/author/Thomas-A-Edison',\n",
       " 'Eleanor Roosevelt': 'http://quotes.toscrape.com/author/Eleanor-Roosevelt',\n",
       " 'Steve Martin': 'http://quotes.toscrape.com/author/Steve-Martin',\n",
       " 'Bob Marley': 'http://quotes.toscrape.com/author/Bob-Marley',\n",
       " 'Dr. Seuss': 'http://quotes.toscrape.com/author/Dr-Seuss',\n",
       " 'Douglas Adams': 'http://quotes.toscrape.com/author/Douglas-Adams',\n",
       " 'Elie Wiesel': 'http://quotes.toscrape.com/author/Elie-Wiesel',\n",
       " 'Friedrich Nietzsche': 'http://quotes.toscrape.com/author/Friedrich-Nietzsche',\n",
       " 'Mark Twain': 'http://quotes.toscrape.com/author/Mark-Twain',\n",
       " 'Allen Saunders': 'http://quotes.toscrape.com/author/Allen-Saunders',\n",
       " 'Pablo Neruda': 'http://quotes.toscrape.com/author/Pablo-Neruda',\n",
       " 'Ralph Waldo Emerson': 'http://quotes.toscrape.com/author/Ralph-Waldo-Emerson',\n",
       " 'Mother Teresa': 'http://quotes.toscrape.com/author/Mother-Teresa',\n",
       " 'Garrison Keillor': 'http://quotes.toscrape.com/author/Garrison-Keillor',\n",
       " 'Jim Henson': 'http://quotes.toscrape.com/author/Jim-Henson',\n",
       " 'Charles M. Schulz': 'http://quotes.toscrape.com/author/Charles-M-Schulz',\n",
       " 'William Nicholson': 'http://quotes.toscrape.com/author/William-Nicholson',\n",
       " 'Jorge Luis Borges': 'http://quotes.toscrape.com/author/Jorge-Luis-Borges',\n",
       " 'George Eliot': 'http://quotes.toscrape.com/author/George-Eliot',\n",
       " 'George R.R. Martin': 'http://quotes.toscrape.com/author/George-R-R-Martin',\n",
       " 'C.S. Lewis': 'http://quotes.toscrape.com/author/C-S-Lewis',\n",
       " 'Martin Luther King Jr.': 'http://quotes.toscrape.com/author/Martin-Luther-King-Jr',\n",
       " 'James Baldwin': 'http://quotes.toscrape.com/author/James-Baldwin',\n",
       " 'Haruki Murakami': 'http://quotes.toscrape.com/author/Haruki-Murakami',\n",
       " 'Alexandre Dumas fils': 'http://quotes.toscrape.com/author/Alexandre-Dumas-fils',\n",
       " 'Stephenie Meyer': 'http://quotes.toscrape.com/author/Stephenie-Meyer',\n",
       " 'Ernest Hemingway': 'http://quotes.toscrape.com/author/Ernest-Hemingway',\n",
       " 'Helen Keller': 'http://quotes.toscrape.com/author/Helen-Keller',\n",
       " 'George Bernard Shaw': 'http://quotes.toscrape.com/author/George-Bernard-Shaw',\n",
       " 'Charles Bukowski': 'http://quotes.toscrape.com/author/Charles-Bukowski',\n",
       " 'Suzanne Collins': 'http://quotes.toscrape.com/author/Suzanne-Collins',\n",
       " 'J.R.R. Tolkien': 'http://quotes.toscrape.com/author/J-R-R-Tolkien',\n",
       " 'Alfred Tennyson': 'http://quotes.toscrape.com/author/Alfred-Tennyson',\n",
       " 'Terry Pratchett': 'http://quotes.toscrape.com/author/Terry-Pratchett',\n",
       " 'J.D. Salinger': 'http://quotes.toscrape.com/author/J-D-Salinger',\n",
       " 'George Carlin': 'http://quotes.toscrape.com/author/George-Carlin',\n",
       " 'John Lennon': 'http://quotes.toscrape.com/author/John-Lennon',\n",
       " 'W.C. Fields': 'http://quotes.toscrape.com/author/W-C-Fields',\n",
       " 'Ayn Rand': 'http://quotes.toscrape.com/author/Ayn-Rand',\n",
       " 'Jimi Hendrix': 'http://quotes.toscrape.com/author/Jimi-Hendrix',\n",
       " 'J.M. Barrie': 'http://quotes.toscrape.com/author/J-M-Barrie',\n",
       " 'E.E. Cummings': 'http://quotes.toscrape.com/author/E-E-Cummings',\n",
       " 'Khaled Hosseini': 'http://quotes.toscrape.com/author/Khaled-Hosseini',\n",
       " 'Harper Lee': 'http://quotes.toscrape.com/author/Harper-Lee',\n",
       " \"Madeleine L'Engle\": 'http://quotes.toscrape.com/author/Madeleine-LEngle'}"
      ]
     },
     "execution_count": 10,
     "metadata": {},
     "output_type": "execute_result"
    }
   ],
   "source": [
    "authors_index"
   ]
  },
  {
   "cell_type": "markdown",
   "id": "731da64f",
   "metadata": {},
   "source": [
    "# Auteurs"
   ]
  },
  {
   "cell_type": "code",
   "execution_count": null,
   "id": "3da7bd42",
   "metadata": {},
   "outputs": [],
   "source": [
    "# Détails auteurs\n",
    "authors = []\n",
    "\n",
    "# On récupère chaque auteur unique depuis le site\n",
    "for name, url in authors_index.items():\n",
    "        response = session.get(url, timeout=10)\n",
    "        soup = BeautifulSoup(response.text, \"html.parser\")\n",
    "\n",
    "        born_date = soup.select_one(\".author-born-date\")\n",
    "        born_loc = soup.select_one(\".author-born-location\")\n",
    "        description = soup.select_one(\".author-description\")\n",
    "\n",
    "        authors.append({\n",
    "            \"name\": name,\n",
    "            \"born_date\": born_date.get_text(strip=True).strip() if born_date else \"\",\n",
    "            \"born_location\": born_loc.get_text(strip=True).removeprefix(\"in \").strip() if born_loc else \"\",\n",
    "            \"bio\": description.get_text(strip=True).strip() if description else \"\"\n",
    "        })\n",
    "        \n",
    "        time.sleep(random.uniform(0.1, 0.2))"
   ]
  },
  {
   "cell_type": "markdown",
   "id": "9f90a8c2",
   "metadata": {},
   "source": [
    "# Persistence des données"
   ]
  },
  {
   "cell_type": "code",
   "execution_count": null,
   "id": "0adbb6f0",
   "metadata": {},
   "outputs": [],
   "source": [
    "with open(\"quotes.csv\", \"w\", newline=\"\", encoding=\"utf-8\") as f:\n",
    "    w = csv.DictWriter(f, fieldnames=[\"text\", \"author\", \"tags\"])\n",
    "    w.writeheader()\n",
    "    w.writerows(quotes)\n",
    "\n",
    "with open(\"authors.csv\", \"w\", newline=\"\", encoding=\"utf-8\") as f:\n",
    "    w = csv.DictWriter(f, fieldnames=[\"name\", \"born_date\", \"born_location\", \"bio\"])\n",
    "    w.writeheader()\n",
    "    w.writerows(authors)"
   ]
  }
 ],
 "metadata": {
  "kernelspec": {
   "display_name": ".venv",
   "language": "python",
   "name": "python3"
  },
  "language_info": {
   "codemirror_mode": {
    "name": "ipython",
    "version": 3
   },
   "file_extension": ".py",
   "mimetype": "text/x-python",
   "name": "python",
   "nbconvert_exporter": "python",
   "pygments_lexer": "ipython3",
   "version": "3.12.11"
  }
 },
 "nbformat": 4,
 "nbformat_minor": 5
}
